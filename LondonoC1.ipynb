{
  "nbformat": 4,
  "nbformat_minor": 0,
  "metadata": {
    "colab": {
      "provenance": [],
      "authorship_tag": "ABX9TyMiX29K3qTor8klIPrgU4tE",
      "include_colab_link": true
    },
    "kernelspec": {
      "name": "python3",
      "display_name": "Python 3"
    },
    "language_info": {
      "name": "python"
    }
  },
  "cells": [
    {
      "cell_type": "markdown",
      "metadata": {
        "id": "view-in-github",
        "colab_type": "text"
      },
      "source": [
        "<a href=\"https://colab.research.google.com/github/Slond77/Segundoejemplo/blob/main/LondonoC1.ipynb\" target=\"_parent\"><img src=\"https://colab.research.google.com/assets/colab-badge.svg\" alt=\"Open In Colab\"/></a>"
      ]
    },
    {
      "cell_type": "code",
      "execution_count": null,
      "metadata": {
        "id": "gUGT8o7s2QBH"
      },
      "outputs": [],
      "source": [
        "print(\"hello world\")\n",
        "\n"
      ]
    },
    {
      "cell_type": "code",
      "source": [
        "#primer ejercicio"
      ],
      "metadata": {
        "id": "fkvbpbVA3zQY"
      },
      "execution_count": null,
      "outputs": []
    },
    {
      "cell_type": "markdown",
      "source": [
        "#primer ejercicio"
      ],
      "metadata": {
        "id": "h9b4y_sI4AOw"
      }
    },
    {
      "cell_type": "markdown",
      "source": [
        "##subt\n"
      ],
      "metadata": {
        "id": "VtCK-hrr4L7o"
      }
    },
    {
      "cell_type": "code",
      "source": [
        "print(\"hola, Santiago\")\n"
      ],
      "metadata": {
        "id": "ZiIrRqu14RDY"
      },
      "execution_count": null,
      "outputs": []
    },
    {
      "cell_type": "markdown",
      "source": [
        "#segundo titulo"
      ],
      "metadata": {
        "id": "Jbdpusfu4mcY"
      }
    },
    {
      "cell_type": "code",
      "source": [
        "# Import PyDrive and associated libraries.\n",
        "# This only needs to be done once per notebook.\n",
        "from pydrive.auth import GoogleAuth\n",
        "from pydrive.drive import GoogleDrive\n",
        "from google.colab import auth\n",
        "from oauth2client.client import GoogleCredentials\n",
        "\n",
        "# Authenticate and create the PyDrive client.\n",
        "# This only needs to be done once per notebook.\n",
        "auth.authenticate_user()\n",
        "gauth = GoogleAuth()\n",
        "gauth.credentials = GoogleCredentials.get_application_default()\n",
        "drive = GoogleDrive(gauth)\n",
        "\n",
        "# Download a file based on its file ID.\n",
        "#\n",
        "# A file ID looks like: laggVyWshwcyP6kEI-y_W3P8D26sz\n",
        "file_id = 'REPLACE_WITH_YOUR_FILE_ID'\n",
        "downloaded = drive.CreateFile({'id': file_id})\n",
        "print('Downloaded content \"{}\"'.format(downloaded.GetContentString()))"
      ],
      "metadata": {
        "id": "RXHPeUiA4pxQ"
      },
      "execution_count": null,
      "outputs": []
    }
  ]
}